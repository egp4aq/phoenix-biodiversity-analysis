{
 "cells": [
  {
   "cell_type": "code",
   "execution_count": 1,
   "id": "24b03f93-7cbb-4e44-a61e-79f712dad296",
   "metadata": {
    "tags": []
   },
   "outputs": [],
   "source": [
    "import numpy as np\n",
    "import matplotlib.pyplot as plt\n",
    "import geopandas as gpd\n",
    "import rioxarray as rioxr\n",
    "from shapely.geometry import Polygon\n",
    "\n",
    "from pystac_client import Client  # To access STAC catalogs\n",
    "\n",
    "import planetary_computer  # To sign items from the MPC STAC catalog \n",
    "\n",
    "from IPython.display import Image  # To nicely display images"
   ]
  },
  {
   "cell_type": "code",
   "execution_count": 2,
   "id": "cea6f92f-9866-4e06-b08b-81e68ec39958",
   "metadata": {
    "tags": []
   },
   "outputs": [],
   "source": [
    "# Access MPC catalog\n",
    "catalog = Client.open(\n",
    "    \"https://planetarycomputer.microsoft.com/api/stac/v1\",\n",
    "    modifier=planetary_computer.sign_inplace,\n",
    ")\n",
    "\n",
    "bbox = [-112.826843, 32.974108, -111.184387, 33.863574]\n",
    "search = catalog.search(collections=[\"io-biodiversity\"], bbox=bbox)"
   ]
  },
  {
   "cell_type": "code",
   "execution_count": 5,
   "id": "75009a68-e7b9-4d45-a20c-e157fef6c8b8",
   "metadata": {
    "tags": []
   },
   "outputs": [],
   "source": [
    "# Retrieve search items\n",
    "items = search.item_collection()"
   ]
  },
  {
   "cell_type": "code",
   "execution_count": 9,
   "id": "ea41fb6b-e7a0-4f65-9270-40648eb2fcdc",
   "metadata": {
    "tags": []
   },
   "outputs": [
    {
     "data": {
      "text/html": [
       "<img src=\"https://planetarycomputer.microsoft.com/api/data/v1/item/preview.png?collection=io-biodiversity&item=bii_2019_34.74464974521749_-115.38597824385106_cog&assets=data&tile_format=png&colormap_name=io-bii&rescale=0%2C1&expression=0.97%2A%28data_b1%2A%2A3.84%29&format=png\" width=\"500\"/>"
      ],
      "text/plain": [
       "<IPython.core.display.Image object>"
      ]
     },
     "execution_count": 9,
     "metadata": {},
     "output_type": "execute_result"
    }
   ],
   "source": [
    "Image(url=items[1].assets['rendered_preview'].href, width=500)"
   ]
  },
  {
   "cell_type": "code",
   "execution_count": 10,
   "id": "e873b671-37ab-49ce-bb04-422294783398",
   "metadata": {
    "tags": []
   },
   "outputs": [],
   "source": [
    "# Read in AZ census shapefile\n",
    "# https://www.census.gov/cgi-bin/geo/shapefiles/index.php?year=2020&layergroup=County+Subdivisions"
   ]
  },
  {
   "cell_type": "code",
   "execution_count": null,
   "id": "81b15296-5936-4539-8cb1-3fff4b0f0c74",
   "metadata": {},
   "outputs": [],
   "source": []
  }
 ],
 "metadata": {
  "kernelspec": {
   "display_name": "Anaconda 3 (EDS220)",
   "language": "python",
   "name": "eds220-env"
  },
  "language_info": {
   "codemirror_mode": {
    "name": "ipython",
    "version": 3
   },
   "file_extension": ".py",
   "mimetype": "text/x-python",
   "name": "python",
   "nbconvert_exporter": "python",
   "pygments_lexer": "ipython3",
   "version": "3.11.4"
  }
 },
 "nbformat": 4,
 "nbformat_minor": 5
}
